{
 "cells": [
  {
   "cell_type": "markdown",
   "id": "222cad6b-adee-4063-aa5b-dc45c7a1801e",
   "metadata": {},
   "source": [
    "1.What are the two values of the Boolean data type? How do you write them?"
   ]
  },
  {
   "cell_type": "markdown",
   "id": "e62302df-9ead-4b7b-9d0d-eea60c2fa05a",
   "metadata": {},
   "source": [
    "1.The two values of Boolean data type are True and False.These values are case sensitive here T of True and F of False must be uppercase,with the rest of the word in lowercase."
   ]
  },
  {
   "cell_type": "markdown",
   "id": "e759a47e-9a3e-481c-afee-b9fffbfc2a86",
   "metadata": {},
   "source": [
    "2. What are the three different types of Boolean operators?"
   ]
  },
  {
   "cell_type": "markdown",
   "id": "6f1e3384-6206-470a-86c2-ff0b30658778",
   "metadata": {},
   "source": [
    "2.The three diffrent types of Boolean operators are and,or and not."
   ]
  },
  {
   "cell_type": "markdown",
   "id": "d9054b0e-3662-4d60-ad5a-01d6f57938f8",
   "metadata": {},
   "source": [
    "3. Make a list of each Boolean operator's truth tables."
   ]
  },
  {
   "cell_type": "raw",
   "id": "fa35c8e8-9934-4bcb-ae7b-0111b6665191",
   "metadata": {},
   "source": [
    "3.For And operator\n",
    "True and True is True.\n",
    "True and False is False.\n",
    "False and True is False.\n",
    "False and False is False.\n",
    "\n",
    "For Or operator\n",
    "True or True is True.\n",
    "True or False is True.\n",
    "False or True is True.\n",
    "False or False is False.\n",
    "\n",
    "For Not operator\n",
    "not True is False.\n",
    "not False is True.\n"
   ]
  },
  {
   "cell_type": "markdown",
   "id": "98ac1a3b-b56f-4660-a56b-74bd64996538",
   "metadata": {},
   "source": [
    "4. What are the values of the following expressions?\n",
    "(5>4) and (3 == 5)\n",
    "not (5>4)\n",
    "(5>4) or (3 == 5)\n",
    "not ((5>4) or (3 == 5))\n",
    "(True and True) and (True == False)\n",
    "(not False) or (not True)"
   ]
  },
  {
   "cell_type": "markdown",
   "id": "c1adeefd-e909-4865-bf0d-be64414420f4",
   "metadata": {},
   "source": [
    "4.Here \n",
    "(5>4) and (3 == 5)\n",
    "True and False is False,\n",
    "not (5>4)\n",
    "not True is False,\n",
    "(5>4) or (3 == 5)\n",
    "True or False is True,\n",
    "not ((5>4) or (3 == 5))\n",
    "not (True or False)\n",
    "not( True)\n",
    "False,\n",
    "(True and True) and (True == False)\n",
    "True and False is False,\n",
    "(not False) or (not True)\n",
    "True or false is True"
   ]
  },
  {
   "cell_type": "markdown",
   "id": "de837fe3-111b-4988-a902-fecca509b788",
   "metadata": {},
   "source": [
    "5. What are the six comparison operators?"
   ]
  },
  {
   "cell_type": "markdown",
   "id": "99e39176-8599-4213-809f-9b77d3865a73",
   "metadata": {},
   "source": [
    "5.Comparison operators are\n",
    "==,>,<,>=,<=,!=\n"
   ]
  },
  {
   "cell_type": "markdown",
   "id": "b48e51cc-0390-4703-8795-c0722b4e3835",
   "metadata": {},
   "source": [
    "6. How do you tell the difference between the equal to and assignment operators?Describe a\n",
    "condition and when you would use one."
   ]
  },
  {
   "cell_type": "markdown",
   "id": "312963ed-35aa-40ef-b543-32e642c485a9",
   "metadata": {},
   "source": [
    "6.== is the equal to operator that compares two values and evaluates to a Boolean, while = is the assignment operator that stores a value in a variable.\n",
    "We have different types of conditional statements like if, if-else, elif, nested if, and nested if-else statements which control the execution of our program.A condition is an expression used in a statement that evaluates to a Boolean value."
   ]
  },
  {
   "cell_type": "markdown",
   "id": "dda7e2dd-383b-45ea-ba3f-ad2708b3254c",
   "metadata": {},
   "source": [
    "7. Identify the three blocks in this code:\n",
    "spam = 0\n",
    "if spam == 10:\n",
    "print(&#39;eggs&#39;)\n",
    "if spam &gt; 5:\n",
    "print(&#39;bacon&#39;)\n",
    "else:\n",
    "print(&#39;ham&#39;)\n",
    "print(&#39;spam&#39;)\n",
    "print(&#39;spam&#39;)"
   ]
  },
  {
   "cell_type": "markdown",
   "id": "9eb7fe00-f533-47e5-b06e-1e06f3cd4cfe",
   "metadata": {},
   "source": [
    "7.A block is a piece of Python program text that is executed as a unit. The following are blocks: a module, a function body, and a class definition. Each command typed interactively is a block.There are three blocks viz two if conditions and one else condition.\n"
   ]
  },
  {
   "cell_type": "markdown",
   "id": "af8ee102-f75b-463f-8de7-31ae737a48eb",
   "metadata": {},
   "source": [
    "8. Write code that prints Hello if 1 is stored in spam, prints Howdy if 2 is stored in spam, and prints\n",
    "Greetings! if anything else is stored in spam."
   ]
  },
  {
   "cell_type": "code",
   "execution_count": 2,
   "id": "a1743497-a5bb-42df-bf49-b5b9454c8ff6",
   "metadata": {},
   "outputs": [
    {
     "name": "stdout",
     "output_type": "stream",
     "text": [
      "Greetings!\n"
     ]
    }
   ],
   "source": [
    "spam=100\n",
    "if spam==1:\n",
    "    print('Hello')\n",
    "elif spam==2:\n",
    "    print('Howdy')\n",
    "else:\n",
    "    print('Greetings!')"
   ]
  },
  {
   "cell_type": "markdown",
   "id": "87b20be9-a944-4c7a-b371-085826156c95",
   "metadata": {},
   "source": [
    "9.If your programme is stuck in an endless loop, what keys you’ll press?"
   ]
  },
  {
   "cell_type": "markdown",
   "id": "04453a47-b743-4cae-9a06-a97b462b9337",
   "metadata": {},
   "source": [
    "9.CTRL+C"
   ]
  },
  {
   "cell_type": "markdown",
   "id": "f111697b-1aa5-4cba-bb50-696e8b42a2b3",
   "metadata": {},
   "source": [
    "10. How can you tell the difference between break and continue?"
   ]
  },
  {
   "cell_type": "markdown",
   "id": "caef3be6-c1c6-4e30-b384-757ee16f9bec",
   "metadata": {},
   "source": [
    "10.The break statement will move the execution outside just after a loop,The continue statement will move the execution to the start of the loop."
   ]
  },
  {
   "cell_type": "markdown",
   "id": "45ab2e46-ff56-4013-afec-3632890fcc31",
   "metadata": {},
   "source": [
    "11. In a for loop, what is the difference between range(10), range(0, 10), and range(0, 10, 1)?"
   ]
  },
  {
   "cell_type": "code",
   "execution_count": 4,
   "id": "8da1eb65-28ac-429c-a7c5-995521a9b7b0",
   "metadata": {},
   "outputs": [
    {
     "name": "stdout",
     "output_type": "stream",
     "text": [
      "0\n",
      "1\n",
      "2\n",
      "3\n",
      "4\n",
      "5\n",
      "6\n",
      "7\n",
      "8\n",
      "9\n"
     ]
    }
   ],
   "source": [
    "for i in range(10):#it includes all the numbers from 0 to 9,it starts from 0 by default\n",
    "    print(i)"
   ]
  },
  {
   "cell_type": "code",
   "execution_count": 5,
   "id": "a8a1359d-7ba1-47de-a2be-ced4124127e9",
   "metadata": {},
   "outputs": [
    {
     "name": "stdout",
     "output_type": "stream",
     "text": [
      "0\n",
      "1\n",
      "2\n",
      "3\n",
      "4\n",
      "5\n",
      "6\n",
      "7\n",
      "8\n",
      "9\n"
     ]
    }
   ],
   "source": [
    "for i in range(0,10):#it includes all the numbers from 0 to 9,it excludes last mentioned number like 10 in this case\n",
    "    print(i)"
   ]
  },
  {
   "cell_type": "code",
   "execution_count": 6,
   "id": "a6879a71-3b62-4633-9562-f8faafd1dae6",
   "metadata": {},
   "outputs": [
    {
     "name": "stdout",
     "output_type": "stream",
     "text": [
      "0\n",
      "1\n",
      "2\n",
      "3\n",
      "4\n",
      "5\n",
      "6\n",
      "7\n",
      "8\n",
      "9\n"
     ]
    }
   ],
   "source": [
    "for i in range(0,10,1):#here 1 refers to jumpsize that it jumps one by one on every value of i without any skips\n",
    "    print(i)"
   ]
  },
  {
   "cell_type": "markdown",
   "id": "b0100fce-11dc-4dad-9246-a2329a3a696f",
   "metadata": {},
   "source": [
    "There is no diffrence in the above mentioned ranges,they are just written diffrently"
   ]
  },
  {
   "cell_type": "markdown",
   "id": "ec38ea40-7a53-4776-b117-80ab0d12ea31",
   "metadata": {},
   "source": [
    "12. Write a short program that prints the numbers 1 to 10 using a for loop. Then write an equivalent\n",
    "program that prints the numbers 1 to 10 using a while loop."
   ]
  },
  {
   "cell_type": "code",
   "execution_count": 7,
   "id": "4425fd75-4ffb-4df5-a835-b35a920c2601",
   "metadata": {},
   "outputs": [
    {
     "name": "stdout",
     "output_type": "stream",
     "text": [
      "0\n",
      "1\n",
      "2\n",
      "3\n",
      "4\n",
      "5\n",
      "6\n",
      "7\n",
      "8\n",
      "9\n",
      "10\n"
     ]
    }
   ],
   "source": [
    "for i in range(0,11):\n",
    "    print(i)"
   ]
  },
  {
   "cell_type": "code",
   "execution_count": 1,
   "id": "725d4f76-b296-4e03-a6ef-aab58a1c28a0",
   "metadata": {},
   "outputs": [
    {
     "name": "stdout",
     "output_type": "stream",
     "text": [
      "1\n",
      "2\n",
      "3\n",
      "4\n",
      "5\n",
      "6\n",
      "7\n",
      "8\n",
      "9\n",
      "10\n"
     ]
    }
   ],
   "source": [
    "a=1\n",
    "while a<=10:\n",
    "    print(a)\n",
    "    if a==11:\n",
    "        break\n",
    "    a=a+1"
   ]
  },
  {
   "cell_type": "markdown",
   "id": "dc1a1bd8-fc19-4c71-941f-b7b46722ba54",
   "metadata": {},
   "source": [
    "13. If you had a function named bacon() inside a module named spam, how would you call it after\n",
    "importing spam?"
   ]
  },
  {
   "cell_type": "markdown",
   "id": "8c706bb8-54bd-48e2-a279-08fd8b499d85",
   "metadata": {},
   "source": [
    "This function can be called with spam.bacon()."
   ]
  }
 ],
 "metadata": {
  "kernelspec": {
   "display_name": "Python 3 (ipykernel)",
   "language": "python",
   "name": "python3"
  },
  "language_info": {
   "codemirror_mode": {
    "name": "ipython",
    "version": 3
   },
   "file_extension": ".py",
   "mimetype": "text/x-python",
   "name": "python",
   "nbconvert_exporter": "python",
   "pygments_lexer": "ipython3",
   "version": "3.9.12"
  }
 },
 "nbformat": 4,
 "nbformat_minor": 5
}

{
 "cells": [
  {
   "cell_type": "raw",
   "id": "4bdb7b88-2148-4bc2-b5f1-88a08fc37bd9",
   "metadata": {},
   "source": [
    "1. In the below elements which of them are values or an expression? eg:- values can be\n",
    "integer or string and expressions will be mathematical operators.\n",
    "*\n",
    "'hello'\n",
    "-87.8\n",
    "-\n",
    "/\n",
    "+\n",
    "6\n",
    "Sol.1:Here * is Expression\n",
    "           'hello'is Value\n",
    "           -87.8 is value\n",
    "           - is expression\n",
    "           / is expression\n",
    "           + is expression\n",
    "           6 is value\n",
    "                    \n"
   ]
  },
  {
   "cell_type": "raw",
   "id": "d4ecb00b-fdc3-4285-a2b3-53c7a54c9cb2",
   "metadata": {},
   "source": [
    "2. What is the difference between string and variable?\n",
    "Sol.2:A Variable stores information, and a String is the type of information we would store in a Variable.For instance,if we write a=\"Beautiful\",then the value of variable a becomes \"Beautiful\",Here \"Beautiful\" is the information stored in the variable which is known as a string."
   ]
  },
  {
   "cell_type": "raw",
   "id": "e1d69af3-1b7c-4112-aa3c-eabaa618ff57",
   "metadata": {},
   "source": [
    "3. Describe three different data types.\n",
    "sol.3:Three diffrent data types are:\n",
    "1.Strings for eg.\"Hello!\", \"23.34\"\t\n",
    "if we write anything between \" \" it becomes a string.\n",
    "2.Floats for eg. 3.1415\tor we can say Decimal Numbers are known as float data type.\n",
    "3.Tuples for eg. (1,2,3,4,5).A collection of data,\n",
    "sits between ( ) is Tuple data type."
   ]
  },
  {
   "cell_type": "raw",
   "id": "7306210d-9724-45af-a584-fb23ffc724e8",
   "metadata": {},
   "source": [
    "4. What is an expression made up of? What do all expressions do?\n",
    "Sol.4:An expression is a combination of values, variables, operators, and calls to functions.Expressions need to be evaluated. If you ask Python to print an expression, the interpreter evaluates the expression and displays the result.\n",
    "for instance you can see the cell below."
   ]
  },
  {
   "cell_type": "code",
   "execution_count": 5,
   "id": "3ad0813e-a8a4-4c21-aaf1-a286ade50033",
   "metadata": {},
   "outputs": [
    {
     "data": {
      "text/plain": [
       "'HelloDolly'"
      ]
     },
     "execution_count": 5,
     "metadata": {},
     "output_type": "execute_result"
    }
   ],
   "source": [
    "\"Hello\"+\"Dolly\"\n",
    "\n"
   ]
  },
  {
   "cell_type": "code",
   "execution_count": 6,
   "id": "428471ee-78e7-4267-a812-cb2783780233",
   "metadata": {},
   "outputs": [
    {
     "data": {
      "text/plain": [
       "'43Trucks'"
      ]
     },
     "execution_count": 6,
     "metadata": {},
     "output_type": "execute_result"
    }
   ],
   "source": [
    "\n",
    "\"43\"+\"Trucks\"\n",
    "\n"
   ]
  },
  {
   "cell_type": "code",
   "execution_count": 7,
   "id": "99eca41e-21d6-4e2c-91b8-abdab3715937",
   "metadata": {},
   "outputs": [
    {
     "data": {
      "text/plain": [
       "6619.599999999999"
      ]
     },
     "execution_count": 7,
     "metadata": {},
     "output_type": "execute_result"
    }
   ],
   "source": [
    "\n",
    "67*98.8\n"
   ]
  },
  {
   "cell_type": "code",
   "execution_count": 8,
   "id": "0280850d-06ee-4d93-9259-f89f6fb3d0d5",
   "metadata": {},
   "outputs": [
    {
     "data": {
      "text/plain": [
       "5"
      ]
     },
     "execution_count": 8,
     "metadata": {},
     "output_type": "execute_result"
    }
   ],
   "source": [
    "len(\"River\")"
   ]
  },
  {
   "cell_type": "raw",
   "id": "9fa5eda7-095f-4e99-a9f4-6ad90aad8f48",
   "metadata": {},
   "source": [
    "5.This assignment statements, like spam = 10. What is the difference between an\n",
    "expression and a statement?\n",
    "sol.5:A statement as:\n",
    "spam=10 \n",
    "has only assigned a value equal to 10 to the variable spam,it will not lead to any result or output on running it whereas an expression gives a result after evaluation of the variables and operators it comprises of."
   ]
  },
  {
   "cell_type": "raw",
   "id": "8f59d9f9-fb21-49ee-b6db-2bbadde84ca8",
   "metadata": {},
   "source": [
    "6. After running the following code, what does the variable bacon contain?\n",
    "bacon = 22\n",
    "bacon + 1\n",
    "Sol.6: As variable bacon has been assigned a value of 22,it will stay equal to 22 but\n",
    "if we write bacon+1 it would give result 23 as you can run the cell below as this + operator would increase its value by 1."
   ]
  },
  {
   "cell_type": "code",
   "execution_count": 12,
   "id": "9a44b4df-6cf2-4212-9ad2-d2bcd9d38090",
   "metadata": {},
   "outputs": [
    {
     "data": {
      "text/plain": [
       "23"
      ]
     },
     "execution_count": 12,
     "metadata": {},
     "output_type": "execute_result"
    }
   ],
   "source": [
    "bacon=22\n",
    "bacon+1"
   ]
  },
  {
   "cell_type": "raw",
   "id": "680a4341-06a6-4ea9-90eb-25e9641793cc",
   "metadata": {},
   "source": [
    "7. What should the values of the following two terms be\n",
    "\"spam\"+\"spamspam\"\n",
    "\"spam\" * 3\n",
    "Sol.7:A string can be added to a str so it would result in \"spamspamspam\"\n",
    " In other statement \"spam\" will be tripled would result in \"spamspamspam\""
   ]
  },
  {
   "cell_type": "raw",
   "id": "76c98c46-2675-4a4b-b23d-3972b2f81e13",
   "metadata": {},
   "source": [
    "8. Why is eggs a valid variable name while 100 is invalid?\n",
    "Sol.8:There is a set of rules which are to be kept in mind while picking variable names\n",
    "one of those rules is that it cannot be a number only like 100 as if we have to asssign a variable name 100 a value it cannot be equal to 56,it would say syntax error as cannot assign a literal.But a variable can be asia4 we can use such alphabet and number combinations as below:"
   ]
  },
  {
   "cell_type": "code",
   "execution_count": 21,
   "id": "ceae73d7-8644-409d-82aa-2cdb08d60c8b",
   "metadata": {},
   "outputs": [
    {
     "data": {
      "text/plain": [
       "67"
      ]
     },
     "execution_count": 21,
     "metadata": {},
     "output_type": "execute_result"
    }
   ],
   "source": [
    "asia4=67\n",
    "asia4"
   ]
  },
  {
   "cell_type": "raw",
   "id": "efee19f6-50dc-409c-9bb5-20b3f3de5b6e",
   "metadata": {},
   "source": [
    "9. What three functions can be used to get the integer, floating-point number, or string\n",
    "version of a value?\n",
    "sol.9:int(),float(),str()\n",
    "if we have a=67.8\n",
    "we can get integer value of a as below:\n"
   ]
  },
  {
   "cell_type": "code",
   "execution_count": 22,
   "id": "eb74fd27-adbe-4ba8-b7da-f7fd36549a15",
   "metadata": {},
   "outputs": [
    {
     "data": {
      "text/plain": [
       "67"
      ]
     },
     "execution_count": 22,
     "metadata": {},
     "output_type": "execute_result"
    }
   ],
   "source": [
    "a=67.8\n",
    "int(a)"
   ]
  },
  {
   "cell_type": "code",
   "execution_count": 23,
   "id": "c4cf3c7f-8368-42f7-b70e-82370be78b7a",
   "metadata": {},
   "outputs": [
    {
     "data": {
      "text/plain": [
       "67.8"
      ]
     },
     "execution_count": 23,
     "metadata": {},
     "output_type": "execute_result"
    }
   ],
   "source": [
    "float(a)#floating point number"
   ]
  },
  {
   "cell_type": "code",
   "execution_count": 24,
   "id": "fec0283e-53ca-4d1d-86c1-ff39ee75158c",
   "metadata": {},
   "outputs": [
    {
     "data": {
      "text/plain": [
       "'67.8'"
      ]
     },
     "execution_count": 24,
     "metadata": {},
     "output_type": "execute_result"
    }
   ],
   "source": [
    "str(a)#string version of a value"
   ]
  },
  {
   "cell_type": "raw",
   "id": "4ed79452-c86d-49cd-82eb-85a741d3d3ba",
   "metadata": {},
   "source": [
    "10. Why does this expression cause an error? How can you fix it?\n",
    "'I have eaten'+ 99 + 'burritos.'\n",
    "Sol.10:Only strings can be concatenated to strings,here 99 is an integer so it must be converted to a string first as below:"
   ]
  },
  {
   "cell_type": "code",
   "execution_count": null,
   "id": "4571db7f-b681-400f-9a3b-0b3c0f64ed90",
   "metadata": {},
   "outputs": [],
   "source": [
    "'I have eaten'+str(99)+'burrit"
   ]
  }
 ],
 "metadata": {
  "kernelspec": {
   "display_name": "Python 3 (ipykernel)",
   "language": "python",
   "name": "python3"
  },
  "language_info": {
   "codemirror_mode": {
    "name": "ipython",
    "version": 3
   },
   "file_extension": ".py",
   "mimetype": "text/x-python",
   "name": "python",
   "nbconvert_exporter": "python",
   "pygments_lexer": "ipython3",
   "version": "3.9.12"
  }
 },
 "nbformat": 4,
 "nbformat_minor": 5
}

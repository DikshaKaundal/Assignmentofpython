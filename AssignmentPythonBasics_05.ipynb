{
 "cells": [
  {
   "cell_type": "markdown",
   "id": "e1290766-6f87-446c-b5bf-7c834988ae88",
   "metadata": {},
   "source": [
    "1. What does an empty dictionary&#39;s code look like?"
   ]
  },
  {
   "cell_type": "markdown",
   "id": "3501054f-1d02-49c2-80c7-d3f671c109dc",
   "metadata": {},
   "source": [
    "Sol.1:{}"
   ]
  },
  {
   "cell_type": "markdown",
   "id": "76366ff4-fc56-4605-ba67-fe0a96016edb",
   "metadata": {},
   "source": [
    "2. What is the value of a dictionary value with the key &#39;foo&#39; and the value 42?"
   ]
  },
  {
   "cell_type": "code",
   "execution_count": 2,
   "id": "c30a71ca-c93d-449f-9c53-ac8bc72a95d6",
   "metadata": {},
   "outputs": [],
   "source": [
    "Sol.2:d={'foo':42}"
   ]
  },
  {
   "cell_type": "markdown",
   "id": "30dca1d0-d7b8-41da-ab41-05ed08a9bb5f",
   "metadata": {},
   "source": [
    "3. What is the most significant distinction between a dictionary and a list?"
   ]
  },
  {
   "cell_type": "markdown",
   "id": "5a3088e9-5440-48c4-a549-6ddeb5f52265",
   "metadata": {},
   "source": [
    " Sol.3:Main difference is that items in dictionaries are accessed via keys and not via their position."
   ]
  },
  {
   "cell_type": "markdown",
   "id": "d49cb137-c959-451d-a7a1-8b0151b478ee",
   "metadata": {},
   "source": [
    "4. What happens if you try to access spam[&#39;foo&#39;] if spam is {&#39;bar&#39;: 100}?"
   ]
  },
  {
   "cell_type": "code",
   "execution_count": 1,
   "id": "25346298-b3b3-482c-ac9c-eb672ae972bf",
   "metadata": {},
   "outputs": [],
   "source": [
    "spam={'bar': 100}"
   ]
  },
  {
   "cell_type": "code",
   "execution_count": null,
   "id": "0660de60-f5be-418d-bfb7-6814c11e5a68",
   "metadata": {},
   "outputs": [],
   "source": [
    "spam['foo']#It will give a KeyError"
   ]
  },
  {
   "cell_type": "markdown",
   "id": "ca48299b-b29a-4eec-8678-5103b998ee39",
   "metadata": {},
   "source": [
    "5. If a dictionary is stored in spam, what is the difference between the expressions &#39;cat&#39; in spam and\n",
    "&#39;cat&#39; in spam.keys()?"
   ]
  },
  {
   "cell_type": "markdown",
   "id": "81f0a548-b676-4716-b316-7869ca46f93e",
   "metadata": {},
   "source": [
    "5.There is no difference,as the in operator checks whether a value exists as a key in the dictionary."
   ]
  },
  {
   "cell_type": "markdown",
   "id": "d1cc3cb5-eecd-45c3-88a3-dc47b5134262",
   "metadata": {},
   "source": [
    "6. If a dictionary is stored in spam, what is the difference between the expressions &#39;cat&#39; in spam and\n",
    "&#39;cat&#39; in spam.values()?"
   ]
  },
  {
   "cell_type": "markdown",
   "id": "d9d01865-962d-433d-91f8-c10e4f7903f8",
   "metadata": {},
   "source": [
    "6.'cat' in spam checks whether there is a 'cat' key in the dictionary, while 'cat' in spam.values() checks whether there is a value 'cat' for one of the keys in spam."
   ]
  },
  {
   "cell_type": "markdown",
   "id": "5bd913b3-273d-4c15-ba7a-a9cfb0a69617",
   "metadata": {},
   "source": [
    "7. What is a shortcut for the following code?"
   ]
  },
  {
   "cell_type": "code",
   "execution_count": 6,
   "id": "23bbc216-d60e-4f3f-8505-2a16ba0f8eee",
   "metadata": {},
   "outputs": [],
   "source": [
    "if 'color' not in spam:\n",
    "    spam['color']='black'\n",
    "    "
   ]
  },
  {
   "cell_type": "code",
   "execution_count": 8,
   "id": "3ebb51a5-ee32-413f-8fe6-9f8b29ece2d6",
   "metadata": {},
   "outputs": [
    {
     "data": {
      "text/plain": [
       "'black'"
      ]
     },
     "execution_count": 8,
     "metadata": {},
     "output_type": "execute_result"
    }
   ],
   "source": [
    "spam.setdefault('color','black')"
   ]
  },
  {
   "cell_type": "code",
   "execution_count": 9,
   "id": "33a028db-d2a7-4ede-bb2d-d2a4d29ed82e",
   "metadata": {},
   "outputs": [
    {
     "data": {
      "text/plain": [
       "'black'"
      ]
     },
     "execution_count": 9,
     "metadata": {},
     "output_type": "execute_result"
    }
   ],
   "source": [
    "spam['color']"
   ]
  },
  {
   "cell_type": "markdown",
   "id": "d210cd88-f595-4543-9630-1adbf29616a2",
   "metadata": {},
   "source": [
    "8. How do you &quot;pretty print&quot; dictionary values using which module and function?"
   ]
  },
  {
   "cell_type": "code",
   "execution_count": null,
   "id": "944c9840-4c0b-41e9-b87e-33ab825e22fb",
   "metadata": {},
   "outputs": [],
   "source": [
    "8.pprint.ppri"
   ]
  },
  {
   "cell_type": "code",
   "execution_count": 20,
   "id": "8a2b10fc-eb05-4493-aa47-12e834e366be",
   "metadata": {},
   "outputs": [
    {
     "name": "stdout",
     "output_type": "stream",
     "text": [
      "{'age': 31,\n",
      " 'books': ['Harry Potter', 'Lord of the Rings'],\n",
      " 'gender': 'male',\n",
      " 'name': 'Nik'}\n"
     ]
    }
   ],
   "source": [
    "import pprint\n",
    "sample_dict = {'name': 'Nik', 'age': 31, 'gender': 'male', 'books': ['Harry Potter', 'Lord of the Rings']}\n",
    "pprint.pprint(sample_dict)"
   ]
  }
 ],
 "metadata": {
  "kernelspec": {
   "display_name": "Python 3 (ipykernel)",
   "language": "python",
   "name": "python3"
  },
  "language_info": {
   "codemirror_mode": {
    "name": "ipython",
    "version": 3
   },
   "file_extension": ".py",
   "mimetype": "text/x-python",
   "name": "python",
   "nbconvert_exporter": "python",
   "pygments_lexer": "ipython3",
   "version": "3.9.12"
  }
 },
 "nbformat": 4,
 "nbformat_minor": 5
}

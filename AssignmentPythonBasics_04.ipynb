{
 "cells": [
  {
   "cell_type": "markdown",
   "id": "4fd78c9f-6b11-4cd8-973c-e7a712f83c9a",
   "metadata": {},
   "source": [
    "1. What exactly is []?"
   ]
  },
  {
   "cell_type": "markdown",
   "id": "290be4cf-71bc-4c69-bf7e-4de8d2397509",
   "metadata": {},
   "source": [
    "1.This is a list that contains no items."
   ]
  },
  {
   "cell_type": "markdown",
   "id": "dbf92715-52a2-446f-a719-cb02a1415649",
   "metadata": {},
   "source": [
    "2. In a list of values stored in a variable called spam, how would you assign the value 'hello' as the third value? (Assume [2, 4, 6, 8, 10] are in spam.)"
   ]
  },
  {
   "cell_type": "code",
   "execution_count": 1,
   "id": "a8cf0cca-cc74-4d92-9f15-b6108d80898d",
   "metadata": {},
   "outputs": [],
   "source": [
    "spam=[2,4,6,8,10]"
   ]
  },
  {
   "cell_type": "code",
   "execution_count": 2,
   "id": "e4ea5056-83b6-4635-96fe-6d4b065b120a",
   "metadata": {},
   "outputs": [],
   "source": [
    "spam[2]='hello'#Here the third value has index=2"
   ]
  },
  {
   "cell_type": "code",
   "execution_count": 3,
   "id": "84cdc1ca-1fb4-4821-9810-8216229cb071",
   "metadata": {},
   "outputs": [
    {
     "data": {
      "text/plain": [
       "[2, 4, 'hello', 8, 10]"
      ]
     },
     "execution_count": 3,
     "metadata": {},
     "output_type": "execute_result"
    }
   ],
   "source": [
    "spam"
   ]
  },
  {
   "cell_type": "markdown",
   "id": "86d7ed67-9821-436e-9f60-44b3494b3714",
   "metadata": {},
   "source": [
    "Lets pretend the spam includes the list for the next three queries."
   ]
  },
  {
   "cell_type": "code",
   "execution_count": 2,
   "id": "304084b5-bb55-4405-a0d8-bc8fa2edbbbe",
   "metadata": {},
   "outputs": [],
   "source": [
    "spam=['a','b','c','d']"
   ]
  },
  {
   "cell_type": "markdown",
   "id": "00713622-c866-44b1-b535-c5153c104454",
   "metadata": {},
   "source": [
    "3. What is the value of spam[int(int('3' * 2) / 11)]?"
   ]
  },
  {
   "cell_type": "code",
   "execution_count": 3,
   "id": "5edda173-156b-4db6-81dd-625bb510b10a",
   "metadata": {},
   "outputs": [
    {
     "data": {
      "text/plain": [
       "'d'"
      ]
     },
     "execution_count": 3,
     "metadata": {},
     "output_type": "execute_result"
    }
   ],
   "source": [
    "#spam[int(int('33')/11)]\n",
    "#spam[int(33/11)]\n",
    "spam[3]"
   ]
  },
  {
   "cell_type": "markdown",
   "id": "bf01a0e6-15e7-42b9-a704-61bf1c8900cd",
   "metadata": {},
   "source": [
    "4. What is the value of spam[-1]?"
   ]
  },
  {
   "cell_type": "code",
   "execution_count": 4,
   "id": "e253cc5a-3364-48d7-86f9-2309c354f28e",
   "metadata": {},
   "outputs": [
    {
     "data": {
      "text/plain": [
       "'d'"
      ]
     },
     "execution_count": 4,
     "metadata": {},
     "output_type": "execute_result"
    }
   ],
   "source": [
    "spam[-1]#as indices starts from -1 right to left"
   ]
  },
  {
   "cell_type": "markdown",
   "id": "bc777686-d91f-4495-b3d4-86679b9fb3a7",
   "metadata": {},
   "source": [
    "5. What is the value of spam[:2]?"
   ]
  },
  {
   "cell_type": "code",
   "execution_count": 5,
   "id": "101fd90f-63b7-45ea-8c1b-d35510eecde5",
   "metadata": {},
   "outputs": [
    {
     "data": {
      "text/plain": [
       "['a', 'b']"
      ]
     },
     "execution_count": 5,
     "metadata": {},
     "output_type": "execute_result"
    }
   ],
   "source": [
    "spam[:2]#here by default it picks values from index 0 to 1 and excludes 2"
   ]
  },
  {
   "cell_type": "markdown",
   "id": "906453c0-4c5d-432a-a2c2-ab39a13c914c",
   "metadata": {},
   "source": [
    "Lets pretend bacon has the list [3.14,'cat', 11, 'cat', True] for the next three questions."
   ]
  },
  {
   "cell_type": "markdown",
   "id": "b557d32b-e174-4297-9768-9482dcbe5dda",
   "metadata": {},
   "source": [
    "6. What is the value of bacon.index('cat')?"
   ]
  },
  {
   "cell_type": "code",
   "execution_count": 7,
   "id": "64b4210b-b9f2-4021-a400-37db64329c5c",
   "metadata": {},
   "outputs": [],
   "source": [
    "bacon=[3.14,'cat',11,'cat',True]"
   ]
  },
  {
   "cell_type": "code",
   "execution_count": 9,
   "id": "e83296e4-5e6b-45dd-ad2f-5421580c6744",
   "metadata": {},
   "outputs": [
    {
     "data": {
      "text/plain": [
       "1"
      ]
     },
     "execution_count": 9,
     "metadata": {},
     "output_type": "execute_result"
    }
   ],
   "source": [
    "bacon.index(\"cat\")"
   ]
  },
  {
   "cell_type": "markdown",
   "id": "d1f20571-05ee-4ac8-9deb-79710913e19b",
   "metadata": {},
   "source": [
    "7. How does bacon.append(99) change the look of the list value in bacon?"
   ]
  },
  {
   "cell_type": "code",
   "execution_count": 11,
   "id": "762e18dd-0a87-4474-a41e-fa0f96e7f045",
   "metadata": {},
   "outputs": [],
   "source": [
    "bacon.append(99)#this adds up the values in () in the end of the list"
   ]
  },
  {
   "cell_type": "code",
   "execution_count": 12,
   "id": "5c85aab7-8e1c-4614-801c-13fd8f36181e",
   "metadata": {},
   "outputs": [
    {
     "data": {
      "text/plain": [
       "[3.14, 'cat', 11, 'cat', True, 99]"
      ]
     },
     "execution_count": 12,
     "metadata": {},
     "output_type": "execute_result"
    }
   ],
   "source": [
    "bacon#here 99 gets added up to the end of the list bacon"
   ]
  },
  {
   "cell_type": "markdown",
   "id": "58e8d2a8-257e-4585-b5e9-1632d1db33ae",
   "metadata": {},
   "source": [
    "8. How does bacon.remove('cat') change the look of the list in bacon?"
   ]
  },
  {
   "cell_type": "code",
   "execution_count": 13,
   "id": "9ae1b79a-c70d-45ca-9a81-f7f58b2401c8",
   "metadata": {},
   "outputs": [],
   "source": [
    "bacon.remove('cat')"
   ]
  },
  {
   "cell_type": "code",
   "execution_count": 14,
   "id": "6b4a23b9-2025-455d-9615-fe6ad00ab15c",
   "metadata": {},
   "outputs": [
    {
     "data": {
      "text/plain": [
       "[3.14, 11, 'cat', True, 99]"
      ]
     },
     "execution_count": 14,
     "metadata": {},
     "output_type": "execute_result"
    }
   ],
   "source": [
    "bacon"
   ]
  },
  {
   "cell_type": "markdown",
   "id": "28b2b3df-d678-4787-849a-e4fe16be818a",
   "metadata": {},
   "source": [
    "9. What are the list concatenation and list replication operators?"
   ]
  },
  {
   "cell_type": "markdown",
   "id": "85d214dc-1742-4056-9e89-dc7193d6c362",
   "metadata": {},
   "source": [
    "9.List concatenation operator is + and list replication operator is *"
   ]
  },
  {
   "cell_type": "markdown",
   "id": "5c5320a5-bfb5-442a-97b9-011234dc1c00",
   "metadata": {},
   "source": [
    "10. What is difference between the list methods append() and insert()?"
   ]
  },
  {
   "cell_type": "markdown",
   "id": "c6aca548-18f5-4db3-84a8-d7c4821e78bf",
   "metadata": {},
   "source": [
    "append() adds values only to the end of a list and insert() adds them anywhere in the list."
   ]
  },
  {
   "cell_type": "markdown",
   "id": "963629e1-6b71-4ece-a2d8-0dbbde2af5e4",
   "metadata": {},
   "source": [
    "11. What are the two methods for removing items from a list?"
   ]
  },
  {
   "cell_type": "markdown",
   "id": "c6ea778d-d70c-43d6-a389-064f636f3fc0",
   "metadata": {},
   "source": [
    "11.The methods are remove(), pop() and clear()"
   ]
  },
  {
   "cell_type": "code",
   "execution_count": 17,
   "id": "4d51d632-c470-4069-9af1-ad3e983b2668",
   "metadata": {},
   "outputs": [
    {
     "data": {
      "text/plain": [
       "['a', 'b', 'c', 'd']"
      ]
     },
     "execution_count": 17,
     "metadata": {},
     "output_type": "execute_result"
    }
   ],
   "source": [
    "spam"
   ]
  },
  {
   "cell_type": "code",
   "execution_count": 22,
   "id": "d35476d8-44ce-476f-a011-de72b6b034cb",
   "metadata": {},
   "outputs": [],
   "source": [
    "spam.remove(\"a\")#It removes a particular element from list"
   ]
  },
  {
   "cell_type": "code",
   "execution_count": 23,
   "id": "320d690c-1f28-4287-88fb-c255aff36f42",
   "metadata": {},
   "outputs": [
    {
     "data": {
      "text/plain": [
       "['b', 'c', 'd']"
      ]
     },
     "execution_count": 23,
     "metadata": {},
     "output_type": "execute_result"
    }
   ],
   "source": [
    "spam"
   ]
  },
  {
   "cell_type": "code",
   "execution_count": 24,
   "id": "2786f6b6-160e-4d67-92b4-a412df335047",
   "metadata": {},
   "outputs": [
    {
     "data": {
      "text/plain": [
       "'d'"
      ]
     },
     "execution_count": 24,
     "metadata": {},
     "output_type": "execute_result"
    }
   ],
   "source": [
    "spam.pop()#it chops off the last element from list every time its executed"
   ]
  },
  {
   "cell_type": "code",
   "execution_count": 25,
   "id": "5503886a-5192-4767-ad1e-488e4abbc9aa",
   "metadata": {},
   "outputs": [
    {
     "data": {
      "text/plain": [
       "['b', 'c']"
      ]
     },
     "execution_count": 25,
     "metadata": {},
     "output_type": "execute_result"
    }
   ],
   "source": [
    "spam"
   ]
  },
  {
   "cell_type": "code",
   "execution_count": 26,
   "id": "42215fc4-6f2d-490f-9b66-981e736168ee",
   "metadata": {},
   "outputs": [],
   "source": [
    "spam.clear()#it clears off the list"
   ]
  },
  {
   "cell_type": "code",
   "execution_count": 27,
   "id": "a7f81747-9c01-4941-bab9-2f5c89494cc2",
   "metadata": {},
   "outputs": [
    {
     "data": {
      "text/plain": [
       "[]"
      ]
     },
     "execution_count": 27,
     "metadata": {},
     "output_type": "execute_result"
    }
   ],
   "source": [
    "spam"
   ]
  },
  {
   "cell_type": "markdown",
   "id": "90a86de3-afb9-4a1e-b1b4-93c6b128524c",
   "metadata": {},
   "source": [
    "12. Describe how list values and string values are identical."
   ]
  },
  {
   "cell_type": "markdown",
   "id": "90a329c8-9997-499d-b701-d8479380f515",
   "metadata": {},
   "source": [
    "12.Both of them can be sent to len(),both have indices,can be concatenated,can be used in for loops,can be replicated etc"
   ]
  },
  {
   "cell_type": "markdown",
   "id": "559a703a-8f56-4e0e-994a-6856bd204c6b",
   "metadata": {},
   "source": [
    "13. What&#39;s the difference between tuples and lists?"
   ]
  },
  {
   "cell_type": "markdown",
   "id": "2c5c3723-3c6b-4610-a302-1e4646fb267b",
   "metadata": {},
   "source": [
    "13.lists are mutable ie they can be modified,they can have values added,removed or changed.Tuples are immutable,They cannot be changed,they are written in parentheses(),lists use square brackets[]."
   ]
  },
  {
   "cell_type": "markdown",
   "id": "b77758f3-ddb7-4162-b5fc-ced205c64a49",
   "metadata": {},
   "source": [
    "14. How do you type a tuple value that only contains the integer 42?"
   ]
  },
  {
   "cell_type": "code",
   "execution_count": 28,
   "id": "da772157-7910-4e0d-8f30-3208a8ae7dbc",
   "metadata": {},
   "outputs": [],
   "source": [
    "s=(42,)#Here comma after 42 is mandatory"
   ]
  },
  {
   "cell_type": "code",
   "execution_count": 29,
   "id": "1dce5a12-7ed6-4a3b-971e-426c3e7f0ebe",
   "metadata": {},
   "outputs": [
    {
     "data": {
      "text/plain": [
       "tuple"
      ]
     },
     "execution_count": 29,
     "metadata": {},
     "output_type": "execute_result"
    }
   ],
   "source": [
    "type(s)"
   ]
  },
  {
   "cell_type": "code",
   "execution_count": 30,
   "id": "14571409-ba31-4c2d-b4e8-0c653820657f",
   "metadata": {},
   "outputs": [],
   "source": [
    "t=(42)"
   ]
  },
  {
   "cell_type": "code",
   "execution_count": 31,
   "id": "2ae77fb3-b673-4519-8eea-2b2d5dc48696",
   "metadata": {},
   "outputs": [
    {
     "data": {
      "text/plain": [
       "int"
      ]
     },
     "execution_count": 31,
     "metadata": {},
     "output_type": "execute_result"
    }
   ],
   "source": [
    "type(t)"
   ]
  },
  {
   "cell_type": "markdown",
   "id": "c70ad8cb-c49f-4650-9433-b0b49decd713",
   "metadata": {},
   "source": [
    "15. How do you get a list value&#39;s tuple form? How do you get a tuple value&#39;s list form?"
   ]
  },
  {
   "cell_type": "code",
   "execution_count": 33,
   "id": "3b7a8daa-6ff6-4c96-b895-191178c130da",
   "metadata": {},
   "outputs": [],
   "source": [
    "t=[1,2,4,6,'chand']"
   ]
  },
  {
   "cell_type": "code",
   "execution_count": 35,
   "id": "a1049270-ec06-491a-9c9a-3d6dd1702690",
   "metadata": {},
   "outputs": [
    {
     "data": {
      "text/plain": [
       "(1, 2, 4, 6, 'chand')"
      ]
     },
     "execution_count": 35,
     "metadata": {},
     "output_type": "execute_result"
    }
   ],
   "source": [
    "tuple(t)"
   ]
  },
  {
   "cell_type": "code",
   "execution_count": 4,
   "id": "5252c53d-b3f4-4c6d-8f80-c1e72fe90eae",
   "metadata": {},
   "outputs": [],
   "source": [
    "s=(\"bebo\",\"honey\",3,7,8,9)"
   ]
  },
  {
   "cell_type": "code",
   "execution_count": 3,
   "id": "c2f7de23-6f99-4239-ae81-7407641ed977",
   "metadata": {},
   "outputs": [
    {
     "data": {
      "text/plain": [
       "['bebo', 'honey', 3, 7, 8, 9]"
      ]
     },
     "execution_count": 3,
     "metadata": {},
     "output_type": "execute_result"
    }
   ],
   "source": [
    "list(s)"
   ]
  },
  {
   "cell_type": "markdown",
   "id": "3561514f-c148-4337-ae8c-adb696777e58",
   "metadata": {},
   "source": [
    "16. Variables that &quot;contain&quot; list values are not necessarily lists themselves. Instead, what do theycontain?"
   ]
  },
  {
   "cell_type": "markdown",
   "id": "28af104f-b475-410d-812b-4171614c6a9f",
   "metadata": {},
   "source": [
    "They contain references to list values."
   ]
  },
  {
   "cell_type": "markdown",
   "id": "d5667c5a-ad28-4aa3-8db9-5a6ed8957be2",
   "metadata": {},
   "source": [
    "17. How do you distinguish between copy.copy() and copy.deepcopy()?"
   ]
  },
  {
   "cell_type": "markdown",
   "id": "f9ec7947-314b-418b-8536-21db436c2d76",
   "metadata": {},
   "source": [
    "The copy.copy() function will do a shallow copy of a list, while the copy.deepcopy() function will do a deep copy of a list. That is, only copy.deepcopy() will duplicate any lists inside the list."
   ]
  },
  {
   "cell_type": "markdown",
   "id": "d36ee0bd-5023-436c-8488-3eabc0879ee7",
   "metadata": {},
   "source": [
    "sometimes you may want to have the original values unchanged and only modify the new values or vice versa. In Python, there are two ways to create copies:\n",
    "\n",
    "Shallow Copy and\n",
    "Deep Copy"
   ]
  },
  {
   "cell_type": "markdown",
   "id": "1eaceb59-1fe2-48cb-a0a8-6ca6d48b3cf4",
   "metadata": {},
   "source": [
    "Shallow copy"
   ]
  },
  {
   "cell_type": "code",
   "execution_count": 44,
   "id": "fac4c6f2-5a07-44e6-b9c3-c878ce325a78",
   "metadata": {},
   "outputs": [
    {
     "name": "stdout",
     "output_type": "stream",
     "text": [
      "Old list: [[1, 2, 3], [4, 5, 6], [7, 8, 9]]\n",
      "New list: [[1, 2, 3], [4, 5, 6], [7, 8, 9]]\n"
     ]
    }
   ],
   "source": [
    "import copy\n",
    "\n",
    "old_list = [[1, 2, 3], [4, 5, 6], [7, 8, 9]]\n",
    "new_list = copy.copy(old_list)\n",
    "\n",
    "print(\"Old list:\", old_list)\n",
    "print(\"New list:\", new_list)"
   ]
  },
  {
   "cell_type": "code",
   "execution_count": 45,
   "id": "6a4b1e03-bab1-4c67-a83a-83b5f2e56a4b",
   "metadata": {},
   "outputs": [
    {
     "name": "stdout",
     "output_type": "stream",
     "text": [
      "Old list: [[1, 1, 1], [2, 2, 2], [3, 3, 3], [4, 4, 4]]\n",
      "New list: [[1, 1, 1], [2, 2, 2], [3, 3, 3]]\n"
     ]
    }
   ],
   "source": [
    "import copy\n",
    "\n",
    "old_list = [[1, 1, 1], [2, 2, 2], [3, 3, 3]]\n",
    "new_list = copy.copy(old_list)\n",
    "\n",
    "old_list.append([4, 4, 4])\n",
    "\n",
    "print(\"Old list:\", old_list)\n",
    "print(\"New list:\", new_list)"
   ]
  },
  {
   "cell_type": "markdown",
   "id": "fd47b67c-8a09-42c4-b5dd-277341fbf9e1",
   "metadata": {},
   "source": [
    "we add the new list i.e [4, 4, 4] into old_list. This new sublist was not copied in new_list."
   ]
  },
  {
   "cell_type": "markdown",
   "id": "8978481a-3f10-4f4c-81dd-ac4dc3abdd5a",
   "metadata": {},
   "source": [
    "However, when you change any nested objects in old_list, the changes appear in new_list."
   ]
  },
  {
   "cell_type": "code",
   "execution_count": 46,
   "id": "01539aa2-33c2-4ea7-bbb6-91b4e7330b45",
   "metadata": {},
   "outputs": [
    {
     "name": "stdout",
     "output_type": "stream",
     "text": [
      "Old list: [[1, 1, 1], [2, 'AA', 2], [3, 3, 3]]\n",
      "New list: [[1, 1, 1], [2, 'AA', 2], [3, 3, 3]]\n"
     ]
    }
   ],
   "source": [
    "import copy\n",
    "\n",
    "old_list = [[1, 1, 1], [2, 2, 2], [3, 3, 3]]\n",
    "new_list = copy.copy(old_list)\n",
    "\n",
    "old_list[1][1] = 'AA'\n",
    "\n",
    "print(\"Old list:\", old_list)\n",
    "print(\"New list:\", new_list)"
   ]
  },
  {
   "cell_type": "markdown",
   "id": "dff35dcb-2131-4c43-879d-8746773bff82",
   "metadata": {},
   "source": [
    "This is because, both lists share the reference of same nested objects."
   ]
  },
  {
   "cell_type": "markdown",
   "id": "632cdc5e-1bed-4b64-ba7a-41c06d5d311d",
   "metadata": {},
   "source": [
    "A deep copy creates a new object and recursively adds the copies of nested objects present in the original elements."
   ]
  },
  {
   "cell_type": "code",
   "execution_count": 47,
   "id": "f0be5640-c211-47a0-a9ce-275fc9859813",
   "metadata": {},
   "outputs": [
    {
     "name": "stdout",
     "output_type": "stream",
     "text": [
      "Old list: [[1, 1, 1], [2, 2, 2], [3, 3, 3]]\n",
      "New list: [[1, 1, 1], [2, 2, 2], [3, 3, 3]]\n"
     ]
    }
   ],
   "source": [
    "import copy\n",
    "\n",
    "old_list = [[1, 1, 1], [2, 2, 2], [3, 3, 3]]\n",
    "new_list = copy.deepcopy(old_list)\n",
    "\n",
    "print(\"Old list:\", old_list)\n",
    "print(\"New list:\", new_list)"
   ]
  },
  {
   "cell_type": "markdown",
   "id": "061f933d-8cf3-4ae0-9220-3b44a7b9fb51",
   "metadata": {},
   "source": [
    " if you make changes to any nested objects in original object old_list, you’ll see no changes to the copy new_list."
   ]
  },
  {
   "cell_type": "code",
   "execution_count": 48,
   "id": "5fcb43dd-9a14-4e82-ac63-05e6f4f219db",
   "metadata": {},
   "outputs": [
    {
     "name": "stdout",
     "output_type": "stream",
     "text": [
      "Old list: [[1, 1, 1], ['BB', 2, 2], [3, 3, 3]]\n",
      "New list: [[1, 1, 1], [2, 2, 2], [3, 3, 3]]\n"
     ]
    }
   ],
   "source": [
    "import copy\n",
    "\n",
    "old_list = [[1, 1, 1], [2, 2, 2], [3, 3, 3]]\n",
    "new_list = copy.deepcopy(old_list)\n",
    "\n",
    "old_list[1][0] = 'BB'\n",
    "\n",
    "print(\"Old list:\", old_list)\n",
    "print(\"New list:\", new_list)"
   ]
  },
  {
   "cell_type": "markdown",
   "id": "d12ba32d-2641-475f-b2e1-8d6b26200b6d",
   "metadata": {},
   "source": [
    "In the above program, when we assign a new value to old_list, we can see only the old_list is modified. This means, both the old_list and the new_list are independent."
   ]
  }
 ],
 "metadata": {
  "kernelspec": {
   "display_name": "Python 3 (ipykernel)",
   "language": "python",
   "name": "python3"
  },
  "language_info": {
   "codemirror_mode": {
    "name": "ipython",
    "version": 3
   },
   "file_extension": ".py",
   "mimetype": "text/x-python",
   "name": "python",
   "nbconvert_exporter": "python",
   "pygments_lexer": "ipython3",
   "version": "3.9.12"
  }
 },
 "nbformat": 4,
 "nbformat_minor": 5
}

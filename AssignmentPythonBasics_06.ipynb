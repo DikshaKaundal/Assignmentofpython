{
 "cells": [
  {
   "cell_type": "markdown",
   "id": "c0866d68-5c2d-4dda-a199-1ebc7c108fac",
   "metadata": {},
   "source": [
    "1. What are escape characters, and how do you use them?"
   ]
  },
  {
   "cell_type": "markdown",
   "id": "b4fe880f-d334-4445-9c40-cf52002cbf1b",
   "metadata": {},
   "source": [
    "1.we will get an error if we use double quotes inside a string that is surrounded by double quotes as"
   ]
  },
  {
   "cell_type": "code",
   "execution_count": 1,
   "id": "562df9d5-dd8d-4db8-a70f-a7b23f25c7df",
   "metadata": {},
   "outputs": [
    {
     "ename": "SyntaxError",
     "evalue": "invalid syntax (7934146.py, line 1)",
     "output_type": "error",
     "traceback": [
      "\u001b[0;36m  Input \u001b[0;32mIn [1]\u001b[0;36m\u001b[0m\n\u001b[0;31m    txt = \"We are the so-called \"Vikings\" from the north.\"\u001b[0m\n\u001b[0m                                 ^\u001b[0m\n\u001b[0;31mSyntaxError\u001b[0m\u001b[0;31m:\u001b[0m invalid syntax\n"
     ]
    }
   ],
   "source": [
    "txt = \"We are the so-called \"Vikings\" from the north.\"#This gives an error as invalid syntax"
   ]
  },
  {
   "cell_type": "markdown",
   "id": "26a52332-8fc2-420c-a84a-9b1324ae1041",
   "metadata": {},
   "source": [
    "to mend this statement we use escape characters as \\\""
   ]
  },
  {
   "cell_type": "code",
   "execution_count": 4,
   "id": "19740be6-3dd8-4d23-8b69-0aaea1e69ab7",
   "metadata": {},
   "outputs": [],
   "source": [
    "txt = \"We are the so-called \\\"Vikings\\\" from the north.\""
   ]
  },
  {
   "cell_type": "code",
   "execution_count": 5,
   "id": "fad6dccc-f187-44eb-863e-9865b40f4651",
   "metadata": {},
   "outputs": [
    {
     "data": {
      "text/plain": [
       "'We are the so-called \"Vikings\" from the north.'"
      ]
     },
     "execution_count": 5,
     "metadata": {},
     "output_type": "execute_result"
    }
   ],
   "source": [
    "txt"
   ]
  },
  {
   "cell_type": "markdown",
   "id": "f06ced5f-7cbf-49c2-ac19-3c25b2de4f1c",
   "metadata": {},
   "source": [
    "so we can say Escape characters represent characters in string values that would otherwise be difficult or impossible to type into code."
   ]
  },
  {
   "cell_type": "markdown",
   "id": "17005064-d6a6-4924-92cb-8e71bcd188a1",
   "metadata": {},
   "source": [
    "2. What do the escape characters n and t stand for?"
   ]
  },
  {
   "cell_type": "markdown",
   "id": "864a3d51-263e-46f6-b4db-543ab2a19042",
   "metadata": {},
   "source": [
    "2.\\n stands for new line and \\t stands for tab"
   ]
  },
  {
   "cell_type": "markdown",
   "id": "44bb8836-918e-4ae7-a4e6-58fe7983f410",
   "metadata": {},
   "source": [
    "3. What is the way to include backslash characters in a string?"
   ]
  },
  {
   "cell_type": "markdown",
   "id": "5edb7193-6818-4474-9e9c-5c14338359e9",
   "metadata": {},
   "source": [
    "3.The \\\\ escape character will represent a backslash character."
   ]
  },
  {
   "cell_type": "markdown",
   "id": "35bc7c1b-3193-405a-9e99-7cc6324d3e1d",
   "metadata": {},
   "source": [
    "4. The string &quot;Howl&#39;s Moving Castle&quot; is a correct value. Why isn&#39;t the single quote character in the\n",
    "word Howl&#39;s not escaped a problem?"
   ]
  },
  {
   "cell_type": "markdown",
   "id": "32dcb8df-9b66-49cc-804c-c871bdce85de",
   "metadata": {},
   "source": [
    "4.The single quote in Howl's is fine because we've used double quotes to mark the beginning and end of the string."
   ]
  },
  {
   "cell_type": "markdown",
   "id": "67119b3d-bd75-448e-92c4-94cc37015ac0",
   "metadata": {},
   "source": [
    "5. How do you write a string of newlines if you don&#39;t want to use the n character?"
   ]
  },
  {
   "cell_type": "code",
   "execution_count": 6,
   "id": "79346ccb-b866-4390-9b48-2107bf922d60",
   "metadata": {},
   "outputs": [],
   "source": [
    "a=\"\"\"Hello\n",
    "     ki krde \n",
    "     ji\"\"\""
   ]
  },
  {
   "cell_type": "markdown",
   "id": "1bb03a6a-3780-43da-ae43-194b384eeeaf",
   "metadata": {},
   "source": [
    " With triple-quoted string literals, you can use actual newlines instead of \\n"
   ]
  },
  {
   "cell_type": "code",
   "execution_count": 7,
   "id": "e4a36e40-8eb6-4920-b4b1-cccbf331b264",
   "metadata": {},
   "outputs": [
    {
     "data": {
      "text/plain": [
       "'Hello\\n     ki krde \\n     ji'"
      ]
     },
     "execution_count": 7,
     "metadata": {},
     "output_type": "execute_result"
    }
   ],
   "source": [
    "a#To write a string of newlines without using n character we can add triple quotes and write our strng in multiple lines"
   ]
  },
  {
   "cell_type": "markdown",
   "id": "212ec1fd-5e3a-48e6-bce9-9cda3d8e4133",
   "metadata": {},
   "source": [
    "6. What are the values of the given expressions?\n",
    "&#39;Hello, world!&#39;[1]\n",
    "&#39;Hello, world!&#39;[0:5]\n",
    "&#39;Hello, world!&#39;[:5]\n",
    "&#39;Hello, world!&#39;[3:]"
   ]
  },
  {
   "cell_type": "code",
   "execution_count": 8,
   "id": "e971ec01-1274-483d-a333-d5d3f14f533d",
   "metadata": {},
   "outputs": [
    {
     "data": {
      "text/plain": [
       "'e'"
      ]
     },
     "execution_count": 8,
     "metadata": {},
     "output_type": "execute_result"
    }
   ],
   "source": [
    "'Hello world!'[1]"
   ]
  },
  {
   "cell_type": "code",
   "execution_count": 9,
   "id": "59804e6e-29a5-41e3-9469-edced6a170e8",
   "metadata": {},
   "outputs": [
    {
     "data": {
      "text/plain": [
       "'Hello'"
      ]
     },
     "execution_count": 9,
     "metadata": {},
     "output_type": "execute_result"
    }
   ],
   "source": [
    "'Hello world!'[0:5]"
   ]
  },
  {
   "cell_type": "code",
   "execution_count": 11,
   "id": "7420a9a4-3fc1-4603-ae15-b9483d7f2885",
   "metadata": {},
   "outputs": [
    {
     "data": {
      "text/plain": [
       "'Hello'"
      ]
     },
     "execution_count": 11,
     "metadata": {},
     "output_type": "execute_result"
    }
   ],
   "source": [
    "'Hello world!'[:5]"
   ]
  },
  {
   "cell_type": "code",
   "execution_count": 12,
   "id": "453e3da6-9c39-42e1-aa35-ae55c58fe9d7",
   "metadata": {},
   "outputs": [
    {
     "data": {
      "text/plain": [
       "'lo world!'"
      ]
     },
     "execution_count": 12,
     "metadata": {},
     "output_type": "execute_result"
    }
   ],
   "source": [
    "'Hello world!'[3:]"
   ]
  },
  {
   "cell_type": "markdown",
   "id": "d9685f9b-623e-4fce-ab69-498a8060dd59",
   "metadata": {},
   "source": [
    "7. What are the values of the following expressions?\n",
    "&#39;Hello&#39;.upper()\n",
    "&#39;Hello&#39;.upper().isupper()\n",
    "&#39;Hello&#39;.upper().lower()"
   ]
  },
  {
   "cell_type": "code",
   "execution_count": 13,
   "id": "3e8f1c9e-ac26-4db1-af2c-a0486b05ed52",
   "metadata": {},
   "outputs": [
    {
     "data": {
      "text/plain": [
       "'HELLO'"
      ]
     },
     "execution_count": 13,
     "metadata": {},
     "output_type": "execute_result"
    }
   ],
   "source": [
    "'Hello'.upper()"
   ]
  },
  {
   "cell_type": "code",
   "execution_count": 14,
   "id": "0885203b-2b50-4967-850b-d19dac77e8e8",
   "metadata": {},
   "outputs": [
    {
     "data": {
      "text/plain": [
       "True"
      ]
     },
     "execution_count": 14,
     "metadata": {},
     "output_type": "execute_result"
    }
   ],
   "source": [
    "'Hello'.upper().isupper()"
   ]
  },
  {
   "cell_type": "code",
   "execution_count": 16,
   "id": "b7e9d7a9-3872-4228-99ce-23f9ffb2dfbf",
   "metadata": {},
   "outputs": [
    {
     "data": {
      "text/plain": [
       "'hello'"
      ]
     },
     "execution_count": 16,
     "metadata": {},
     "output_type": "execute_result"
    }
   ],
   "source": [
    "'Hello'.upper().lower()"
   ]
  },
  {
   "cell_type": "markdown",
   "id": "f436cbf4-5618-4f9f-a2d0-5d038cdb8f4f",
   "metadata": {},
   "source": [
    "8. What are the values of the following expressions?\n",
    "&#39;Remember, remember, the fifth of July.&#39;.split()\n",
    "&#39;-&#39;.join(&#39;There can only one.&#39;.split())"
   ]
  },
  {
   "cell_type": "code",
   "execution_count": 20,
   "id": "f99179fa-32ea-4be2-b88b-32b99fdc3701",
   "metadata": {},
   "outputs": [
    {
     "data": {
      "text/plain": [
       "['Remember', 'remember', 'the', 'fifth', 'of', 'july.']"
      ]
     },
     "execution_count": 20,
     "metadata": {},
     "output_type": "execute_result"
    }
   ],
   "source": [
    "'Remember remember the fifth of july.'.split()"
   ]
  },
  {
   "cell_type": "code",
   "execution_count": 22,
   "id": "5afe428f-a5da-46e5-8ed0-704c04e742f9",
   "metadata": {},
   "outputs": [
    {
     "data": {
      "text/plain": [
       "'There-can-only-one.'"
      ]
     },
     "execution_count": 22,
     "metadata": {},
     "output_type": "execute_result"
    }
   ],
   "source": [
    "'-'.join('There can only one.'.split())"
   ]
  },
  {
   "cell_type": "markdown",
   "id": "873649be-991f-4c53-836c-79f7dce49f62",
   "metadata": {},
   "source": [
    "9. What are the methods for right-justifying, left-justifying, and centering a string?"
   ]
  },
  {
   "cell_type": "code",
   "execution_count": 27,
   "id": "7418a175-6a9b-4f1d-87de-2ac38e52bf66",
   "metadata": {},
   "outputs": [
    {
     "name": "stdout",
     "output_type": "stream",
     "text": [
      "The original string is : \n",
      " I love ineuron \n",
      "\n",
      "The center aligned string is : \n",
      "             I love ineuron              \n",
      "\n",
      "Center aligned string with fillchr: \n",
      "#############I love ineuron#############\n"
     ]
    }
   ],
   "source": [
    "# the working of center()\n",
    "  \n",
    "a= \"I love ineuron\"\n",
    "  \n",
    "print (\"The original string is : \\n\", a, \"\\n\")\n",
    "  \n",
    "print (\"The center aligned string is : \")\n",
    "print (a.center(40), \"\\n\")\n",
    "  # Printing the center aligned \n",
    "# string with fillchr\n",
    "print (\"Center aligned string with fillchr: \")\n",
    "print (a.center(40, '#'))"
   ]
  },
  {
   "cell_type": "code",
   "execution_count": 28,
   "id": "83b97e24-9348-4187-b66d-ae3ce4e577ac",
   "metadata": {},
   "outputs": [
    {
     "name": "stdout",
     "output_type": "stream",
     "text": [
      "The original string is : \n",
      " I love Sudhanshu sir \n",
      "\n",
      "The left aligned string is : \n",
      "I love Sudhanshu sir--------------------\n"
     ]
    }
   ],
   "source": [
    "# the working of  ljust()\n",
    "  \n",
    "b = \"I love Sudhanshu sir\"\n",
    "  \n",
    "# Printing the original string\n",
    "print (\"The original string is : \\n\", b, \"\\n\")\n",
    "  \n",
    "# Printing the left aligned \n",
    "# string with \"-\" padding \n",
    "print (\"The left aligned string is : \")\n",
    "print (b.ljust(40, '-'))"
   ]
  },
  {
   "cell_type": "code",
   "execution_count": 32,
   "id": "2a8b4e14-aa98-4675-a167-80e029ab7f22",
   "metadata": {},
   "outputs": [
    {
     "name": "stdout",
     "output_type": "stream",
     "text": [
      "the original string is: c \n",
      "The right alligned string is: \n",
      "----------------------I love Myself More\n"
     ]
    }
   ],
   "source": [
    "#Now for working of rjust()\n",
    "c='I love Myself More'\n",
    "print(\"the original string is: c \")\n",
    "print(\"The right alligned string is: \")\n",
    "print(c.rjust(40,'-'))"
   ]
  },
  {
   "cell_type": "markdown",
   "id": "6c1a86fa-5186-4411-824e-ae06ac6508ff",
   "metadata": {},
   "source": [
    "10. What is the best way to remove whitespace characters from the start or end?"
   ]
  },
  {
   "cell_type": "markdown",
   "id": "f1351f52-d96d-4499-9a3c-398bf4ab64cc",
   "metadata": {},
   "source": [
    "10.The lstrip() and rstrip() methods remove whitespace from the left and right ends of a string, respectively."
   ]
  },
  {
   "cell_type": "code",
   "execution_count": 36,
   "id": "a7ce227f-280c-46c2-82be-cc59a29e80c9",
   "metadata": {},
   "outputs": [
    {
     "data": {
      "text/plain": [
       "'Such a beautiful day   '"
      ]
     },
     "execution_count": 36,
     "metadata": {},
     "output_type": "execute_result"
    }
   ],
   "source": [
    "'  Such a beautiful day   '.lstrip()"
   ]
  },
  {
   "cell_type": "code",
   "execution_count": 37,
   "id": "fd62e13f-4a67-4b00-9357-1df1ce5f7e40",
   "metadata": {},
   "outputs": [
    {
     "data": {
      "text/plain": [
       "'  Such a beautiful day'"
      ]
     },
     "execution_count": 37,
     "metadata": {},
     "output_type": "execute_result"
    }
   ],
   "source": [
    "'  Such a beautiful day   '.rstrip()"
   ]
  }
 ],
 "metadata": {
  "kernelspec": {
   "display_name": "Python 3 (ipykernel)",
   "language": "python",
   "name": "python3"
  },
  "language_info": {
   "codemirror_mode": {
    "name": "ipython",
    "version": 3
   },
   "file_extension": ".py",
   "mimetype": "text/x-python",
   "name": "python",
   "nbconvert_exporter": "python",
   "pygments_lexer": "ipython3",
   "version": "3.9.12"
  }
 },
 "nbformat": 4,
 "nbformat_minor": 5
}

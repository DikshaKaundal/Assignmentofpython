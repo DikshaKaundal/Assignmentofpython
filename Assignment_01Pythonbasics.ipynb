{
 "cells": [
  {
   "cell_type": "markdown",
   "id": "39aa227b-4d8a-4872-ae56-fe40117e6b31",
   "metadata": {},
   "source": [
    "1. In the below elements which of them are values or an expression? eg:- values can be\n",
    "integer or string and expressions will be mathematical operators.\n",
    "*\n",
    "'hello'\n",
    "-87.8\n",
    "-\n",
    "/\n",
    "+\n",
    "6\n",
    "Sol.1:Here * is Expression\n",
    "           'hello'is Value\n",
    "           -87.8 is value\n",
    "           - is expression\n",
    "           / is expression\n",
    "           + is expression\n",
    "           6 is value\n",
    "                    \n"
   ]
  },
  {
   "cell_type": "markdown",
   "id": "b098e548-7a56-46dd-bff8-97d605deaabd",
   "metadata": {},
   "source": [
    "2. What is the difference between string and variable?\n",
    "Sol.2:A Variable stores information, and a String is the type of information we would store in a Variable.For instance,if we write a=\"Beautiful\",then the value of variable a becomes \"Beautiful\",Here \"Beautiful\" is the information stored in the variable which is known as a string."
   ]
  },
  {
   "cell_type": "markdown",
   "id": "b25e467f-ec8d-4fdd-b458-0b3c95e69eae",
   "metadata": {},
   "source": [
    "3. Describe three different data types.\n",
    "sol.3:Three diffrent data types are:\n",
    "1.Strings for eg.\"Hello!\", \"23.34\"\t\n",
    "if we write anything between \" \" it becomes a string.\n",
    "2.Floats for eg. 3.1415\tor we can say Decimal Numbers are known as float data type.\n",
    "3.Tuples for eg. (1,2,3,4,5).A collection of data,\n",
    "sits between ( ) is Tuple data type."
   ]
  },
  {
   "cell_type": "markdown",
   "id": "c4c14a17-699a-4f81-98b2-b705881a4535",
   "metadata": {},
   "source": [
    "4. What is an expression made up of? What do all expressions do?\n",
    "Sol.4:An expression is a combination of values, variables, operators, and calls to functions.Expressions need to be evaluated. If you ask Python to print an expression, the interpreter evaluates the expression and displays the result.\n",
    "for instance you can see the cell below."
   ]
  },
  {
   "cell_type": "code",
   "execution_count": 5,
   "id": "3ad0813e-a8a4-4c21-aaf1-a286ade50033",
   "metadata": {},
   "outputs": [
    {
     "data": {
      "text/plain": [
       "'HelloDolly'"
      ]
     },
     "execution_count": 5,
     "metadata": {},
     "output_type": "execute_result"
    }
   ],
   "source": [
    "\"Hello\"+\"Dolly\"\n",
    "\n"
   ]
  },
  {
   "cell_type": "code",
   "execution_count": 6,
   "id": "428471ee-78e7-4267-a812-cb2783780233",
   "metadata": {},
   "outputs": [
    {
     "data": {
      "text/plain": [
       "'43Trucks'"
      ]
     },
     "execution_count": 6,
     "metadata": {},
     "output_type": "execute_result"
    }
   ],
   "source": [
    "\n",
    "\"43\"+\"Trucks\"\n",
    "\n"
   ]
  },
  {
   "cell_type": "code",
   "execution_count": 7,
   "id": "99eca41e-21d6-4e2c-91b8-abdab3715937",
   "metadata": {},
   "outputs": [
    {
     "data": {
      "text/plain": [
       "6619.599999999999"
      ]
     },
     "execution_count": 7,
     "metadata": {},
     "output_type": "execute_result"
    }
   ],
   "source": [
    "\n",
    "67*98.8\n"
   ]
  },
  {
   "cell_type": "code",
   "execution_count": 8,
   "id": "0280850d-06ee-4d93-9259-f89f6fb3d0d5",
   "metadata": {},
   "outputs": [
    {
     "data": {
      "text/plain": [
       "5"
      ]
     },
     "execution_count": 8,
     "metadata": {},
     "output_type": "execute_result"
    }
   ],
   "source": [
    "len(\"River\")"
   ]
  },
  {
   "cell_type": "markdown",
   "id": "b8d7e03b-18aa-4afd-9a3a-b7f90cfdac8c",
   "metadata": {},
   "source": [
    "5.This assignment statements, like spam = 10. What is the difference between an\n",
    "expression and a statement?\n",
    "sol.5:A statement as:\n",
    "spam=10 \n",
    "has only assigned a value equal to 10 to the variable spam,it will not lead to any result or output on running it whereas an expression gives a result after evaluation of the variables and operators it comprises of."
   ]
  },
  {
   "cell_type": "markdown",
   "id": "d93530a5-2739-4a83-a6cb-fcb3a48dc2eb",
   "metadata": {},
   "source": [
    "6. After running the following code, what does the variable bacon contain?\n",
    "bacon = 22\n",
    "bacon + 1\n",
    "Sol.6: As variable bacon has been assigned a value of 22,it will stay equal to 22 but\n",
    "if we write bacon+1 it would give result 23 as you can run the cell below as this + operator would increase its value by 1."
   ]
  },
  {
   "cell_type": "code",
   "execution_count": 12,
   "id": "9a44b4df-6cf2-4212-9ad2-d2bcd9d38090",
   "metadata": {},
   "outputs": [
    {
     "data": {
      "text/plain": [
       "23"
      ]
     },
     "execution_count": 12,
     "metadata": {},
     "output_type": "execute_result"
    }
   ],
   "source": [
    "bacon=22\n",
    "bacon+1"
   ]
  },
  {
   "cell_type": "markdown",
   "id": "67875fc0-501f-4b79-9840-baba7bd39544",
   "metadata": {},
   "source": [
    "7. What should the values of the following two terms be\n",
    "\"spam\"+\"spamspam\"\n",
    "\"spam\" * 3\n",
    "Sol.7:A string can be added to a str so it would result in \"spamspamspam\"\n",
    " In other statement \"spam\" will be tripled would result in \"spamspamspam\""
   ]
  },
  {
   "cell_type": "markdown",
   "id": "c34cd3f0-12ad-4627-8a78-7478230ae4e4",
   "metadata": {},
   "source": [
    "8. Why is eggs a valid variable name while 100 is invalid?\n",
    "Sol.8:There is a set of rules which are to be kept in mind while picking variable names\n",
    "one of those rules is that it cannot be a number only like 100 as if we have to asssign a variable name 100 a value it cannot be equal to 56,it would say syntax error as cannot assign a literal.But a variable can be asia4 we can use such alphabet and number combinations as below:"
   ]
  },
  {
   "cell_type": "code",
   "execution_count": 21,
   "id": "ceae73d7-8644-409d-82aa-2cdb08d60c8b",
   "metadata": {},
   "outputs": [
    {
     "data": {
      "text/plain": [
       "67"
      ]
     },
     "execution_count": 21,
     "metadata": {},
     "output_type": "execute_result"
    }
   ],
   "source": [
    "asia4=67\n",
    "asia4"
   ]
  },
  {
   "cell_type": "markdown",
   "id": "d116e24f-3e28-4ad5-a378-ae2247e9e910",
   "metadata": {},
   "source": [
    "9. What three functions can be used to get the integer, floating-point number, or string\n",
    "version of a value?\n",
    "sol.9:int(),float(),str()\n",
    "if we have a=67.8\n",
    "we can get integer value of a as below:\n"
   ]
  },
  {
   "cell_type": "code",
   "execution_count": 22,
   "id": "eb74fd27-adbe-4ba8-b7da-f7fd36549a15",
   "metadata": {},
   "outputs": [
    {
     "data": {
      "text/plain": [
       "67"
      ]
     },
     "execution_count": 22,
     "metadata": {},
     "output_type": "execute_result"
    }
   ],
   "source": [
    "a=67.8\n",
    "int(a)"
   ]
  },
  {
   "cell_type": "code",
   "execution_count": 23,
   "id": "c4cf3c7f-8368-42f7-b70e-82370be78b7a",
   "metadata": {},
   "outputs": [
    {
     "data": {
      "text/plain": [
       "67.8"
      ]
     },
     "execution_count": 23,
     "metadata": {},
     "output_type": "execute_result"
    }
   ],
   "source": [
    "float(a)#floating point number"
   ]
  },
  {
   "cell_type": "code",
   "execution_count": 24,
   "id": "fec0283e-53ca-4d1d-86c1-ff39ee75158c",
   "metadata": {},
   "outputs": [
    {
     "data": {
      "text/plain": [
       "'67.8'"
      ]
     },
     "execution_count": 24,
     "metadata": {},
     "output_type": "execute_result"
    }
   ],
   "source": [
    "str(a)#string version of a value"
   ]
  },
  {
   "cell_type": "markdown",
   "id": "8e1e70bf-93d3-4434-848f-8b8b805be5f9",
   "metadata": {},
   "source": [
    "10. Why does this expression cause an error? How can you fix it?\n",
    "'I have eaten'+ 99 + 'burritos.'\n",
    "Sol.10:Only strings can be concatenated to strings,here 99 is an integer so it must be converted to a string first as below:"
   ]
  },
  {
   "cell_type": "code",
   "execution_count": 34,
   "id": "4571db7f-b681-400f-9a3b-0b3c0f64ed90",
   "metadata": {},
   "outputs": [
    {
     "data": {
      "text/plain": [
       "'I have eaten 99 burritos.'"
      ]
     },
     "execution_count": 34,
     "metadata": {},
     "output_type": "execute_result"
    }
   ],
   "source": [
    "'I have eaten' + ' 99 ' + 'burritos.'"
   ]
  },
  {
   "cell_type": "code",
   "execution_count": null,
   "id": "12ae8e11-51ce-4928-a2c9-3226833d9d78",
   "metadata": {},
   "outputs": [],
   "source": []
  }
 ],
 "metadata": {
  "kernelspec": {
   "display_name": "Python 3 (ipykernel)",
   "language": "python",
   "name": "python3"
  },
  "language_info": {
   "codemirror_mode": {
    "name": "ipython",
    "version": 3
   },
   "file_extension": ".py",
   "mimetype": "text/x-python",
   "name": "python",
   "nbconvert_exporter": "python",
   "pygments_lexer": "ipython3",
   "version": "3.9.12"
  }
 },
 "nbformat": 4,
 "nbformat_minor": 5
}

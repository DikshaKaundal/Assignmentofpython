{
 "cells": [
  {
   "cell_type": "markdown",
   "id": "cb3c0955-1735-48b9-b096-f3d6e1e1f411",
   "metadata": {},
   "source": [
    "1. Why are functions advantageous to have in your programs?"
   ]
  },
  {
   "cell_type": "markdown",
   "id": "83e919c0-ff5a-4b8d-85bd-a79fce5026a5",
   "metadata": {},
   "source": [
    "1.Functions are capable of executing particular codes in minimum possible lines,this makes programs shorter and easy to understand,increses the readability of the code."
   ]
  },
  {
   "cell_type": "markdown",
   "id": "ea7d5e41-77b8-48c4-94e2-31c6a803e4f9",
   "metadata": {},
   "source": [
    "2. When does the code in a function run: when its specified or when its called?"
   ]
  },
  {
   "cell_type": "markdown",
   "id": "1a787310-98a7-4b87-9428-f9ac68973a96",
   "metadata": {},
   "source": [
    "2.when its called."
   ]
  },
  {
   "cell_type": "markdown",
   "id": "aecb6c0d-a3cf-41a0-b2b6-9821ab2adbe5",
   "metadata": {},
   "source": [
    "3. What statement creates a function?"
   ]
  },
  {
   "cell_type": "markdown",
   "id": "3f6a540b-cd46-4c49-9a92-5c34f2b016be",
   "metadata": {},
   "source": [
    "3.The def statement creates a function"
   ]
  },
  {
   "cell_type": "markdown",
   "id": "0f6d3018-954a-4ec7-8437-344c73df0d35",
   "metadata": {},
   "source": [
    "4. What is the difference between a function and a function call?"
   ]
  },
  {
   "cell_type": "markdown",
   "id": "3f76ddc4-5306-42e2-916e-d014e14c27a9",
   "metadata": {},
   "source": [
    "4.A function consists of the def statement and the code in its def clause.\n",
    "A function call is what moves the program execution into the function, and the function call evaluates to the function's return value."
   ]
  },
  {
   "cell_type": "markdown",
   "id": "04f4dcf0-330e-42c7-99be-81e734835424",
   "metadata": {},
   "source": [
    "5. How many global scopes are there in a Python program? How many local scopes?"
   ]
  },
  {
   "cell_type": "markdown",
   "id": "110f39d5-f964-41d1-a546-69df0ef6f459",
   "metadata": {},
   "source": [
    "5.Variables that are defined inside a function body have a local scope, and those defined outside have a global scope.This means that local variables can be accessed only inside the function in which they are declared, whereas global variables can be accessed throughout the program body by all functions.There is one global scope, and a local scope is created whenever a function is called."
   ]
  },
  {
   "cell_type": "markdown",
   "id": "9e1207ab-ea0a-4c1c-ae25-c79fd7db9853",
   "metadata": {},
   "source": [
    "6. What happens to variables in a local scope when the function call returns?"
   ]
  },
  {
   "cell_type": "markdown",
   "id": "836a06f8-c5c4-427c-92b5-d91cb011041b",
   "metadata": {},
   "source": [
    "6.When the execution of the function terminates (returns), the local variables are destroyed."
   ]
  },
  {
   "cell_type": "markdown",
   "id": "c0c71dab-3f61-4570-a414-ec918249ed75",
   "metadata": {},
   "source": [
    "7. What is the concept of a return value? Is it possible to have a return value in an expression?"
   ]
  },
  {
   "cell_type": "markdown",
   "id": "057dcc17-3bc7-4935-93b5-c3382337e64a",
   "metadata": {},
   "source": [
    "7.A return value is the value that a function call returns after evaluating it,This return value can be used as a part of an expression"
   ]
  },
  {
   "cell_type": "markdown",
   "id": "ae669025-49d9-4250-bfb8-53225995a815",
   "metadata": {},
   "source": [
    "8. If a function does not have a return statement, what is the return value of a call to that function?"
   ]
  },
  {
   "cell_type": "markdown",
   "id": "858593ed-cece-434f-9a1e-04e0ed04e7e2",
   "metadata": {},
   "source": [
    "8.Return value is None."
   ]
  },
  {
   "cell_type": "markdown",
   "id": "c6c59782-4f66-4908-b5a6-c29a26c37356",
   "metadata": {},
   "source": [
    "9. How do you make a function variable refer to the global variable?"
   ]
  },
  {
   "cell_type": "markdown",
   "id": "85453364-4a79-4a25-a3e0-afbf14095088",
   "metadata": {},
   "source": [
    "9.To create a global variable inside a function, you can use the global keyword."
   ]
  },
  {
   "cell_type": "markdown",
   "id": "296582e5-d6ed-4813-881e-e80cd2cbd176",
   "metadata": {},
   "source": [
    "10. What is the data type of None?"
   ]
  },
  {
   "cell_type": "code",
   "execution_count": 1,
   "id": "a7d3b951-5a95-40bc-904c-2cec23b10f3a",
   "metadata": {},
   "outputs": [
    {
     "data": {
      "text/plain": [
       "NoneType"
      ]
     },
     "execution_count": 1,
     "metadata": {},
     "output_type": "execute_result"
    }
   ],
   "source": [
    "type(None)"
   ]
  },
  {
   "cell_type": "markdown",
   "id": "3be0f19e-c682-407c-8550-5b8e7659f6cd",
   "metadata": {},
   "source": [
    "11. What does the sentence import areallyourpetsnamederic do?"
   ]
  },
  {
   "cell_type": "code",
   "execution_count": 5,
   "id": "c9efd3c9-e24a-461f-b8f5-6d15706f73ba",
   "metadata": {},
   "outputs": [
    {
     "ename": "ModuleNotFoundError",
     "evalue": "No module named 'areallyourpetsnamederic'",
     "output_type": "error",
     "traceback": [
      "\u001b[0;31m---------------------------------------------------------------------------\u001b[0m",
      "\u001b[0;31mModuleNotFoundError\u001b[0m                       Traceback (most recent call last)",
      "Input \u001b[0;32mIn [5]\u001b[0m, in \u001b[0;36m<cell line: 1>\u001b[0;34m()\u001b[0m\n\u001b[0;32m----> 1\u001b[0m \u001b[38;5;28;01mimport\u001b[39;00m \u001b[38;5;21;01mareallyourpetsnamederic\u001b[39;00m\n",
      "\u001b[0;31mModuleNotFoundError\u001b[0m: No module named 'areallyourpetsnamederic'"
     ]
    }
   ],
   "source": [
    "import areallyourpetsnamederic #its showing error but it should import a module named areallyourpetsnamederic"
   ]
  },
  {
   "cell_type": "markdown",
   "id": "203418b9-fc42-4ecd-b034-62bb85d451d3",
   "metadata": {},
   "source": [
    "12. If you had a bacon() feature in a spam module, what would you call it after importing spam?"
   ]
  },
  {
   "cell_type": "markdown",
   "id": "c733b420-818d-4164-a7cd-54870c927e59",
   "metadata": {},
   "source": [
    "12.This function can be called with spam.bacon()."
   ]
  },
  {
   "cell_type": "markdown",
   "id": "82e4e8a2-99c1-414f-904c-f72498b93d09",
   "metadata": {},
   "source": [
    "13. What can you do to save a programme from crashing if it encounters an error?"
   ]
  },
  {
   "cell_type": "markdown",
   "id": "891fbc22-e1cf-43ed-961d-2aa1b843aa0d",
   "metadata": {},
   "source": [
    "13.By placing the line of code that might cause an error in Try clause."
   ]
  },
  {
   "cell_type": "markdown",
   "id": "f0452287-a857-44c5-8863-21464e6f10cd",
   "metadata": {},
   "source": [
    "14. What is the purpose of the try clause? What is the purpose of the except clause?"
   ]
  },
  {
   "cell_type": "markdown",
   "id": "9feb2188-894d-4988-8ae0-90c21d004d29",
   "metadata": {},
   "source": [
    "Any code that can cause an error in a program is kept in Try clause.\n",
    "If an error happens then the code that runs is put in Except clause or we can say Except clause lets us handle the error."
   ]
  }
 ],
 "metadata": {
  "kernelspec": {
   "display_name": "Python 3 (ipykernel)",
   "language": "python",
   "name": "python3"
  },
  "language_info": {
   "codemirror_mode": {
    "name": "ipython",
    "version": 3
   },
   "file_extension": ".py",
   "mimetype": "text/x-python",
   "name": "python",
   "nbconvert_exporter": "python",
   "pygments_lexer": "ipython3",
   "version": "3.9.12"
  }
 },
 "nbformat": 4,
 "nbformat_minor": 5
}
